{
 "cells": [
  {
   "cell_type": "code",
   "execution_count": 1,
   "id": "3dda55e8",
   "metadata": {
    "_cell_guid": "b1076dfc-b9ad-4769-8c92-a6c4dae69d19",
    "_uuid": "8f2839f25d086af736a60e9eeb907d3b93b6e0e5",
    "execution": {
     "iopub.execute_input": "2025-06-06T16:47:05.238099Z",
     "iopub.status.busy": "2025-06-06T16:47:05.237831Z",
     "iopub.status.idle": "2025-06-06T16:47:13.906326Z",
     "shell.execute_reply": "2025-06-06T16:47:13.905412Z"
    },
    "papermill": {
     "duration": 8.678035,
     "end_time": "2025-06-06T16:47:13.907853",
     "exception": false,
     "start_time": "2025-06-06T16:47:05.229818",
     "status": "completed"
    },
    "tags": []
   },
   "outputs": [],
   "source": [
    "import pandas as pd\n",
    "import numpy as np\n",
    "import matplotlib.pyplot as plt\n",
    "import seaborn as sns\n",
    "import kagglehub\n",
    "from scipy.sparse import csr_matrix\n",
    "from math import log2\n",
    "from sklearn.preprocessing import StandardScaler, MinMaxScaler, LabelEncoder, OneHotEncoder\n",
    "from sklearn.metrics import f1_score, average_precision_score\n",
    "from sklearn.metrics.pairwise import cosine_similarity\n",
    "from sklearn.model_selection import train_test_split, RandomizedSearchCV, KFold\n",
    "from xgboost import XGBRanker\n",
    "from sklearn.metrics import ndcg_score\n",
    "from scipy.stats import uniform, randint\n",
    "from sklearn.decomposition import TruncatedSVD\n",
    "from sklearn.feature_extraction.text import HashingVectorizer\n",
    "from collections import defaultdict\n",
    "import time\n",
    "import torch\n",
    "import warnings\n",
    "from sklearn.model_selection import ParameterSampler\n",
    "from tqdm import tqdm\n",
    "import pickle"
   ]
  },
  {
   "cell_type": "markdown",
   "id": "99b7975e",
   "metadata": {
    "papermill": {
     "duration": 0.005251,
     "end_time": "2025-06-06T16:47:13.919198",
     "exception": false,
     "start_time": "2025-06-06T16:47:13.913947",
     "status": "completed"
    },
    "tags": []
   },
   "source": [
    "### Этап 1: Загрузка и предобработка данных ###\n",
    "##### Загрузка данных из Kaggle #####"
   ]
  },
  {
   "cell_type": "code",
   "execution_count": 2,
   "id": "65b54849",
   "metadata": {
    "execution": {
     "iopub.execute_input": "2025-06-06T16:47:13.930673Z",
     "iopub.status.busy": "2025-06-06T16:47:13.930321Z",
     "iopub.status.idle": "2025-06-06T16:47:33.832646Z",
     "shell.execute_reply": "2025-06-06T16:47:33.831746Z"
    },
    "papermill": {
     "duration": 19.909387,
     "end_time": "2025-06-06T16:47:33.833855",
     "exception": false,
     "start_time": "2025-06-06T16:47:13.924468",
     "status": "completed"
    },
    "tags": []
   },
   "outputs": [
    {
     "name": "stdout",
     "output_type": "stream",
     "text": [
      "Path to dataset files: /kaggle/input/dunnhumby-the-complete-journey\n",
      "Все файлы успешно загружены в pandas.\n"
     ]
    }
   ],
   "source": [
    "# Используем kagglehub для загрузки датасета\n",
    "path = kagglehub.dataset_download(\"frtgnn/dunnhumby-the-complete-journey\")\n",
    "print(\"Path to dataset files:\", path)\n",
    "\n",
    "# Пытаемся загрузить все CSV-файлы в датафреймы\n",
    "try:\n",
    "    campaign_desc = pd.read_csv(path + \"/\" + \"campaign_desc.csv\")\n",
    "    campaign_table = pd.read_csv(path + \"/\" + \"campaign_table.csv\")\n",
    "    causal_data = pd.read_csv(path + \"/\" + \"causal_data.csv\")\n",
    "    coupon_redempt = pd.read_csv(path + \"/\" + \"coupon_redempt.csv\")\n",
    "    coupon = pd.read_csv(path + \"/\" + \"coupon.csv\")\n",
    "    hh_demographic = pd.read_csv(path + \"/\" + \"hh_demographic.csv\")\n",
    "    product = pd.read_csv(path + \"/\" + \"product.csv\")\n",
    "    transaction_data = pd.read_csv(path + \"/\" + \"transaction_data.csv\")\n",
    "    print(\"Все файлы успешно загружены в pandas.\")\n",
    "except FileNotFoundError as e:\n",
    "    print(f\"Ошибка: Не удалось найти файл {e.filename}.\")\n",
    "    exit()"
   ]
  },
  {
   "cell_type": "markdown",
   "id": "7e9cbe3d",
   "metadata": {
    "papermill": {
     "duration": 0.005511,
     "end_time": "2025-06-06T16:47:33.845381",
     "exception": false,
     "start_time": "2025-06-06T16:47:33.839870",
     "status": "completed"
    },
    "tags": []
   },
   "source": [
    "##### Объединение транзакций и продуктов #####"
   ]
  },
  {
   "cell_type": "code",
   "execution_count": 3,
   "id": "d25da67f",
   "metadata": {
    "execution": {
     "iopub.execute_input": "2025-06-06T16:47:33.858190Z",
     "iopub.status.busy": "2025-06-06T16:47:33.857647Z",
     "iopub.status.idle": "2025-06-06T16:47:35.487064Z",
     "shell.execute_reply": "2025-06-06T16:47:35.486490Z"
    },
    "papermill": {
     "duration": 1.637552,
     "end_time": "2025-06-06T16:47:35.488518",
     "exception": false,
     "start_time": "2025-06-06T16:47:33.850966",
     "status": "completed"
    },
    "tags": []
   },
   "outputs": [],
   "source": [
    "# Агрегируем транзакции по household_key и PRODUCT_ID, сохраняем DAY\n",
    "aggregated_transactions = transaction_data.groupby(['household_key', 'PRODUCT_ID']).agg({\n",
    "    'QUANTITY': 'sum',\n",
    "    'SALES_VALUE': 'sum',\n",
    "    'DAY': 'max'  # Сохраняем самую позднюю дату покупки\n",
    "}).reset_index()\n",
    "\n",
    "# Объединяем транзакции с информацией о продуктах и демографией домохозяйств\n",
    "combined_data = pd.merge(aggregated_transactions, product, on='PRODUCT_ID', how='left')\n",
    "combined_data = pd.merge(combined_data, hh_demographic, on='household_key', how='left')\n",
    "\n",
    "# Удаляем ненужную колонку\n",
    "combined_data = combined_data.drop('CURR_SIZE_OF_PRODUCT', axis=1)"
   ]
  },
  {
   "cell_type": "code",
   "execution_count": 4,
   "id": "0f74831f",
   "metadata": {
    "execution": {
     "iopub.execute_input": "2025-06-06T16:47:35.501596Z",
     "iopub.status.busy": "2025-06-06T16:47:35.501040Z",
     "iopub.status.idle": "2025-06-06T16:47:35.755624Z",
     "shell.execute_reply": "2025-06-06T16:47:35.754925Z"
    },
    "papermill": {
     "duration": 0.262053,
     "end_time": "2025-06-06T16:47:35.756772",
     "exception": false,
     "start_time": "2025-06-06T16:47:35.494719",
     "status": "completed"
    },
    "tags": []
   },
   "outputs": [
    {
     "data": {
      "text/html": [
       "<div>\n",
       "<style scoped>\n",
       "    .dataframe tbody tr th:only-of-type {\n",
       "        vertical-align: middle;\n",
       "    }\n",
       "\n",
       "    .dataframe tbody tr th {\n",
       "        vertical-align: top;\n",
       "    }\n",
       "\n",
       "    .dataframe thead th {\n",
       "        text-align: right;\n",
       "    }\n",
       "</style>\n",
       "<table border=\"1\" class=\"dataframe\">\n",
       "  <thead>\n",
       "    <tr style=\"text-align: right;\">\n",
       "      <th></th>\n",
       "      <th>household_key</th>\n",
       "      <th>PRODUCT_ID</th>\n",
       "      <th>QUANTITY</th>\n",
       "      <th>SALES_VALUE</th>\n",
       "      <th>DAY</th>\n",
       "      <th>MANUFACTURER</th>\n",
       "    </tr>\n",
       "  </thead>\n",
       "  <tbody>\n",
       "    <tr>\n",
       "      <th>count</th>\n",
       "      <td>1.401469e+06</td>\n",
       "      <td>1.401469e+06</td>\n",
       "      <td>1.401469e+06</td>\n",
       "      <td>1.401469e+06</td>\n",
       "      <td>1.401469e+06</td>\n",
       "      <td>1.401469e+06</td>\n",
       "    </tr>\n",
       "    <tr>\n",
       "      <th>mean</th>\n",
       "      <td>1.274187e+03</td>\n",
       "      <td>3.286085e+06</td>\n",
       "      <td>1.860088e+02</td>\n",
       "      <td>5.749298e+00</td>\n",
       "      <td>4.166882e+02</td>\n",
       "      <td>1.103979e+03</td>\n",
       "    </tr>\n",
       "    <tr>\n",
       "      <th>std</th>\n",
       "      <td>7.265707e+02</td>\n",
       "      <td>4.236226e+06</td>\n",
       "      <td>1.043783e+04</td>\n",
       "      <td>2.804446e+01</td>\n",
       "      <td>1.955026e+02</td>\n",
       "      <td>1.415479e+03</td>\n",
       "    </tr>\n",
       "    <tr>\n",
       "      <th>min</th>\n",
       "      <td>1.000000e+00</td>\n",
       "      <td>2.567100e+04</td>\n",
       "      <td>0.000000e+00</td>\n",
       "      <td>0.000000e+00</td>\n",
       "      <td>1.000000e+00</td>\n",
       "      <td>1.000000e+00</td>\n",
       "    </tr>\n",
       "    <tr>\n",
       "      <th>25%</th>\n",
       "      <td>6.530000e+02</td>\n",
       "      <td>9.203090e+05</td>\n",
       "      <td>1.000000e+00</td>\n",
       "      <td>1.670000e+00</td>\n",
       "      <td>2.540000e+02</td>\n",
       "      <td>6.900000e+01</td>\n",
       "    </tr>\n",
       "    <tr>\n",
       "      <th>50%</th>\n",
       "      <td>1.272000e+03</td>\n",
       "      <td>1.034316e+06</td>\n",
       "      <td>1.000000e+00</td>\n",
       "      <td>2.790000e+00</td>\n",
       "      <td>4.320000e+02</td>\n",
       "      <td>6.730000e+02</td>\n",
       "    </tr>\n",
       "    <tr>\n",
       "      <th>75%</th>\n",
       "      <td>1.917000e+03</td>\n",
       "      <td>5.568661e+06</td>\n",
       "      <td>2.000000e+00</td>\n",
       "      <td>5.000000e+00</td>\n",
       "      <td>5.930000e+02</td>\n",
       "      <td>1.377000e+03</td>\n",
       "    </tr>\n",
       "    <tr>\n",
       "      <th>max</th>\n",
       "      <td>2.500000e+03</td>\n",
       "      <td>1.831630e+07</td>\n",
       "      <td>3.742401e+06</td>\n",
       "      <td>9.444060e+03</td>\n",
       "      <td>7.110000e+02</td>\n",
       "      <td>6.477000e+03</td>\n",
       "    </tr>\n",
       "  </tbody>\n",
       "</table>\n",
       "</div>"
      ],
      "text/plain": [
       "       household_key    PRODUCT_ID      QUANTITY   SALES_VALUE           DAY  \\\n",
       "count   1.401469e+06  1.401469e+06  1.401469e+06  1.401469e+06  1.401469e+06   \n",
       "mean    1.274187e+03  3.286085e+06  1.860088e+02  5.749298e+00  4.166882e+02   \n",
       "std     7.265707e+02  4.236226e+06  1.043783e+04  2.804446e+01  1.955026e+02   \n",
       "min     1.000000e+00  2.567100e+04  0.000000e+00  0.000000e+00  1.000000e+00   \n",
       "25%     6.530000e+02  9.203090e+05  1.000000e+00  1.670000e+00  2.540000e+02   \n",
       "50%     1.272000e+03  1.034316e+06  1.000000e+00  2.790000e+00  4.320000e+02   \n",
       "75%     1.917000e+03  5.568661e+06  2.000000e+00  5.000000e+00  5.930000e+02   \n",
       "max     2.500000e+03  1.831630e+07  3.742401e+06  9.444060e+03  7.110000e+02   \n",
       "\n",
       "       MANUFACTURER  \n",
       "count  1.401469e+06  \n",
       "mean   1.103979e+03  \n",
       "std    1.415479e+03  \n",
       "min    1.000000e+00  \n",
       "25%    6.900000e+01  \n",
       "50%    6.730000e+02  \n",
       "75%    1.377000e+03  \n",
       "max    6.477000e+03  "
      ]
     },
     "execution_count": 4,
     "metadata": {},
     "output_type": "execute_result"
    }
   ],
   "source": [
    "# Посмотрим описательную статистику\n",
    "combined_data.describe()\n"
   ]
  },
  {
   "cell_type": "markdown",
   "id": "2ff68079",
   "metadata": {
    "papermill": {
     "duration": 0.005502,
     "end_time": "2025-06-06T16:47:35.768455",
     "exception": false,
     "start_time": "2025-06-06T16:47:35.762953",
     "status": "completed"
    },
    "tags": []
   },
   "source": [
    "##### Проведем обработку пропусков и дубликатов #####"
   ]
  },
  {
   "cell_type": "code",
   "execution_count": 5,
   "id": "75716957",
   "metadata": {
    "execution": {
     "iopub.execute_input": "2025-06-06T16:47:35.780898Z",
     "iopub.status.busy": "2025-06-06T16:47:35.780356Z",
     "iopub.status.idle": "2025-06-06T16:47:35.785733Z",
     "shell.execute_reply": "2025-06-06T16:47:35.785161Z"
    },
    "papermill": {
     "duration": 0.012859,
     "end_time": "2025-06-06T16:47:35.786851",
     "exception": false,
     "start_time": "2025-06-06T16:47:35.773992",
     "status": "completed"
    },
    "tags": []
   },
   "outputs": [],
   "source": [
    "# Реализуем функцию\n",
    "def preprocess_data(df):\n",
    "    num_null = df.isnull().sum().sum()\n",
    "    num_duplicates = df.duplicated().sum()\n",
    "\n",
    "    if num_null > 0 or num_duplicates > 0:\n",
    "        print(f\"Проверка данных:\")\n",
    "        print(f\" Количество пропусков до обработки:\\n{df.isnull().sum()}\")\n",
    "        print(f\" Количество дубликатов до обработки: {df.duplicated().sum()}\")\n",
    "\n",
    "        # Заполнение пропусков (заполняем 'Unknown' для категориальных признаков и 0 для числовых)\n",
    "        for col in df.columns:\n",
    "            if df[col].dtype == \"object\":\n",
    "                df[col] = df[col].fillna(\"Unknown\")\n",
    "            else:\n",
    "                df[col] = df[col].fillna(0)\n",
    "\n",
    "        if num_duplicates > 0:\n",
    "            print(f\"Удаление дубликатов...\")\n",
    "            df.drop_duplicates(inplace=True)\n",
    "\n",
    "        print(f\"  Количество пропусков после обработки:\\n{df.isnull().sum()}\")\n",
    "        print(f\"  Количество дубликатов после обработки: {df.duplicated().sum()}\")\n",
    "\n",
    "    else:\n",
    "        print(f\"Пропуски и дубликаты не найдены.\")\n"
   ]
  },
  {
   "cell_type": "code",
   "execution_count": 6,
   "id": "7b92e118",
   "metadata": {
    "execution": {
     "iopub.execute_input": "2025-06-06T16:47:35.799342Z",
     "iopub.status.busy": "2025-06-06T16:47:35.798876Z",
     "iopub.status.idle": "2025-06-06T16:47:41.857923Z",
     "shell.execute_reply": "2025-06-06T16:47:41.856952Z"
    },
    "papermill": {
     "duration": 6.06655,
     "end_time": "2025-06-06T16:47:41.859272",
     "exception": false,
     "start_time": "2025-06-06T16:47:35.792722",
     "status": "completed"
    },
    "tags": []
   },
   "outputs": [
    {
     "name": "stdout",
     "output_type": "stream",
     "text": [
      "Проверка данных:\n",
      " Количество пропусков до обработки:\n",
      "household_key               0\n",
      "PRODUCT_ID                  0\n",
      "QUANTITY                    0\n",
      "SALES_VALUE                 0\n",
      "DAY                         0\n",
      "MANUFACTURER                0\n",
      "DEPARTMENT                  0\n",
      "BRAND                       0\n",
      "COMMODITY_DESC              0\n",
      "SUB_COMMODITY_DESC          0\n",
      "AGE_DESC               696108\n",
      "MARITAL_STATUS_CODE    696108\n",
      "INCOME_DESC            696108\n",
      "HOMEOWNER_DESC         696108\n",
      "HH_COMP_DESC           696108\n",
      "HOUSEHOLD_SIZE_DESC    696108\n",
      "KID_CATEGORY_DESC      696108\n",
      "dtype: int64\n",
      " Количество дубликатов до обработки: 0\n",
      "  Количество пропусков после обработки:\n",
      "household_key          0\n",
      "PRODUCT_ID             0\n",
      "QUANTITY               0\n",
      "SALES_VALUE            0\n",
      "DAY                    0\n",
      "MANUFACTURER           0\n",
      "DEPARTMENT             0\n",
      "BRAND                  0\n",
      "COMMODITY_DESC         0\n",
      "SUB_COMMODITY_DESC     0\n",
      "AGE_DESC               0\n",
      "MARITAL_STATUS_CODE    0\n",
      "INCOME_DESC            0\n",
      "HOMEOWNER_DESC         0\n",
      "HH_COMP_DESC           0\n",
      "HOUSEHOLD_SIZE_DESC    0\n",
      "KID_CATEGORY_DESC      0\n",
      "dtype: int64\n",
      "  Количество дубликатов после обработки: 0\n"
     ]
    }
   ],
   "source": [
    "# Запустим функцию\n",
    "preprocess_data(combined_data)"
   ]
  },
  {
   "cell_type": "code",
   "execution_count": 7,
   "id": "eea05000",
   "metadata": {
    "execution": {
     "iopub.execute_input": "2025-06-06T16:47:41.872355Z",
     "iopub.status.busy": "2025-06-06T16:47:41.872065Z",
     "iopub.status.idle": "2025-06-06T16:47:41.876071Z",
     "shell.execute_reply": "2025-06-06T16:47:41.875388Z"
    },
    "papermill": {
     "duration": 0.011598,
     "end_time": "2025-06-06T16:47:41.877116",
     "exception": false,
     "start_time": "2025-06-06T16:47:41.865518",
     "status": "completed"
    },
    "tags": []
   },
   "outputs": [
    {
     "name": "stdout",
     "output_type": "stream",
     "text": [
      "Размер датасета после предобработки: (1401469, 17)\n"
     ]
    }
   ],
   "source": [
    "# Выводим финальный размер датасета\n",
    "print(\"Размер датасета после предобработки:\", combined_data.shape)"
   ]
  },
  {
   "cell_type": "code",
   "execution_count": 8,
   "id": "3c42e73f",
   "metadata": {
    "execution": {
     "iopub.execute_input": "2025-06-06T16:47:41.890020Z",
     "iopub.status.busy": "2025-06-06T16:47:41.889788Z",
     "iopub.status.idle": "2025-06-06T16:47:41.901706Z",
     "shell.execute_reply": "2025-06-06T16:47:41.900996Z"
    },
    "papermill": {
     "duration": 0.019565,
     "end_time": "2025-06-06T16:47:41.902750",
     "exception": false,
     "start_time": "2025-06-06T16:47:41.883185",
     "status": "completed"
    },
    "tags": []
   },
   "outputs": [
    {
     "data": {
      "text/html": [
       "<div>\n",
       "<style scoped>\n",
       "    .dataframe tbody tr th:only-of-type {\n",
       "        vertical-align: middle;\n",
       "    }\n",
       "\n",
       "    .dataframe tbody tr th {\n",
       "        vertical-align: top;\n",
       "    }\n",
       "\n",
       "    .dataframe thead th {\n",
       "        text-align: right;\n",
       "    }\n",
       "</style>\n",
       "<table border=\"1\" class=\"dataframe\">\n",
       "  <thead>\n",
       "    <tr style=\"text-align: right;\">\n",
       "      <th></th>\n",
       "      <th>household_key</th>\n",
       "      <th>PRODUCT_ID</th>\n",
       "      <th>QUANTITY</th>\n",
       "      <th>SALES_VALUE</th>\n",
       "      <th>DAY</th>\n",
       "      <th>MANUFACTURER</th>\n",
       "      <th>DEPARTMENT</th>\n",
       "      <th>BRAND</th>\n",
       "      <th>COMMODITY_DESC</th>\n",
       "      <th>SUB_COMMODITY_DESC</th>\n",
       "      <th>AGE_DESC</th>\n",
       "      <th>MARITAL_STATUS_CODE</th>\n",
       "      <th>INCOME_DESC</th>\n",
       "      <th>HOMEOWNER_DESC</th>\n",
       "      <th>HH_COMP_DESC</th>\n",
       "      <th>HOUSEHOLD_SIZE_DESC</th>\n",
       "      <th>KID_CATEGORY_DESC</th>\n",
       "    </tr>\n",
       "  </thead>\n",
       "  <tbody>\n",
       "    <tr>\n",
       "      <th>0</th>\n",
       "      <td>1</td>\n",
       "      <td>819312</td>\n",
       "      <td>1</td>\n",
       "      <td>5.67</td>\n",
       "      <td>536</td>\n",
       "      <td>3262</td>\n",
       "      <td>DRUG GM</td>\n",
       "      <td>National</td>\n",
       "      <td>IN-STORE PHOTOFINISHING</td>\n",
       "      <td>ONE HOUR PROCESSING</td>\n",
       "      <td>65+</td>\n",
       "      <td>A</td>\n",
       "      <td>35-49K</td>\n",
       "      <td>Homeowner</td>\n",
       "      <td>2 Adults No Kids</td>\n",
       "      <td>2</td>\n",
       "      <td>None/Unknown</td>\n",
       "    </tr>\n",
       "    <tr>\n",
       "      <th>1</th>\n",
       "      <td>1</td>\n",
       "      <td>820165</td>\n",
       "      <td>11</td>\n",
       "      <td>5.50</td>\n",
       "      <td>706</td>\n",
       "      <td>2</td>\n",
       "      <td>PRODUCE</td>\n",
       "      <td>National</td>\n",
       "      <td>CITRUS</td>\n",
       "      <td>ORANGES NAVELS ALL</td>\n",
       "      <td>65+</td>\n",
       "      <td>A</td>\n",
       "      <td>35-49K</td>\n",
       "      <td>Homeowner</td>\n",
       "      <td>2 Adults No Kids</td>\n",
       "      <td>2</td>\n",
       "      <td>None/Unknown</td>\n",
       "    </tr>\n",
       "    <tr>\n",
       "      <th>2</th>\n",
       "      <td>1</td>\n",
       "      <td>821815</td>\n",
       "      <td>2</td>\n",
       "      <td>3.38</td>\n",
       "      <td>311</td>\n",
       "      <td>131</td>\n",
       "      <td>GROCERY</td>\n",
       "      <td>National</td>\n",
       "      <td>DRY SAUCES/GRAVY</td>\n",
       "      <td>GRAVY CAN/GLASS</td>\n",
       "      <td>65+</td>\n",
       "      <td>A</td>\n",
       "      <td>35-49K</td>\n",
       "      <td>Homeowner</td>\n",
       "      <td>2 Adults No Kids</td>\n",
       "      <td>2</td>\n",
       "      <td>None/Unknown</td>\n",
       "    </tr>\n",
       "    <tr>\n",
       "      <th>3</th>\n",
       "      <td>1</td>\n",
       "      <td>821867</td>\n",
       "      <td>1</td>\n",
       "      <td>0.69</td>\n",
       "      <td>639</td>\n",
       "      <td>61</td>\n",
       "      <td>GROCERY</td>\n",
       "      <td>National</td>\n",
       "      <td>BAKING NEEDS</td>\n",
       "      <td>BAKING CUPS</td>\n",
       "      <td>65+</td>\n",
       "      <td>A</td>\n",
       "      <td>35-49K</td>\n",
       "      <td>Homeowner</td>\n",
       "      <td>2 Adults No Kids</td>\n",
       "      <td>2</td>\n",
       "      <td>None/Unknown</td>\n",
       "    </tr>\n",
       "    <tr>\n",
       "      <th>4</th>\n",
       "      <td>1</td>\n",
       "      <td>823721</td>\n",
       "      <td>1</td>\n",
       "      <td>2.99</td>\n",
       "      <td>291</td>\n",
       "      <td>317</td>\n",
       "      <td>GROCERY</td>\n",
       "      <td>National</td>\n",
       "      <td>CHEESE</td>\n",
       "      <td>GRATED CHEESE</td>\n",
       "      <td>65+</td>\n",
       "      <td>A</td>\n",
       "      <td>35-49K</td>\n",
       "      <td>Homeowner</td>\n",
       "      <td>2 Adults No Kids</td>\n",
       "      <td>2</td>\n",
       "      <td>None/Unknown</td>\n",
       "    </tr>\n",
       "  </tbody>\n",
       "</table>\n",
       "</div>"
      ],
      "text/plain": [
       "   household_key  PRODUCT_ID  QUANTITY  SALES_VALUE  DAY  MANUFACTURER  \\\n",
       "0              1      819312         1         5.67  536          3262   \n",
       "1              1      820165        11         5.50  706             2   \n",
       "2              1      821815         2         3.38  311           131   \n",
       "3              1      821867         1         0.69  639            61   \n",
       "4              1      823721         1         2.99  291           317   \n",
       "\n",
       "  DEPARTMENT     BRAND           COMMODITY_DESC   SUB_COMMODITY_DESC AGE_DESC  \\\n",
       "0    DRUG GM  National  IN-STORE PHOTOFINISHING  ONE HOUR PROCESSING      65+   \n",
       "1    PRODUCE  National                   CITRUS   ORANGES NAVELS ALL      65+   \n",
       "2    GROCERY  National         DRY SAUCES/GRAVY      GRAVY CAN/GLASS      65+   \n",
       "3    GROCERY  National             BAKING NEEDS          BAKING CUPS      65+   \n",
       "4    GROCERY  National                   CHEESE        GRATED CHEESE      65+   \n",
       "\n",
       "  MARITAL_STATUS_CODE INCOME_DESC HOMEOWNER_DESC      HH_COMP_DESC  \\\n",
       "0                   A      35-49K      Homeowner  2 Adults No Kids   \n",
       "1                   A      35-49K      Homeowner  2 Adults No Kids   \n",
       "2                   A      35-49K      Homeowner  2 Adults No Kids   \n",
       "3                   A      35-49K      Homeowner  2 Adults No Kids   \n",
       "4                   A      35-49K      Homeowner  2 Adults No Kids   \n",
       "\n",
       "  HOUSEHOLD_SIZE_DESC KID_CATEGORY_DESC  \n",
       "0                   2      None/Unknown  \n",
       "1                   2      None/Unknown  \n",
       "2                   2      None/Unknown  \n",
       "3                   2      None/Unknown  \n",
       "4                   2      None/Unknown  "
      ]
     },
     "execution_count": 8,
     "metadata": {},
     "output_type": "execute_result"
    }
   ],
   "source": [
    "combined_data.head()"
   ]
  },
  {
   "cell_type": "markdown",
   "id": "b6da1361",
   "metadata": {
    "papermill": {
     "duration": 0.006259,
     "end_time": "2025-06-06T16:47:41.915310",
     "exception": false,
     "start_time": "2025-06-06T16:47:41.909051",
     "status": "completed"
    },
    "tags": []
   },
   "source": [
    "### Этап 2: EDA (Разведка) ###\n",
    "##### Анализ клиентской базы #####"
   ]
  },
  {
   "cell_type": "code",
   "execution_count": 9,
   "id": "22275458",
   "metadata": {
    "execution": {
     "iopub.execute_input": "2025-06-06T16:47:41.928589Z",
     "iopub.status.busy": "2025-06-06T16:47:41.928349Z",
     "iopub.status.idle": "2025-06-06T16:47:45.972683Z",
     "shell.execute_reply": "2025-06-06T16:47:45.971985Z"
    },
    "papermill": {
     "duration": 4.055356,
     "end_time": "2025-06-06T16:47:45.976861",
     "exception": false,
     "start_time": "2025-06-06T16:47:41.921505",
     "status": "completed"
    },
    "tags": []
   },
   "outputs": [
    {
     "data": {
      "image/png": "[encoded data removed]",
      "text/plain": [
       "<Figure size 1800x1800 with 6 Axes>"
      ]
     },
     "metadata": {},
     "output_type": "display_data"
    }
   ],
   "source": [
    "# Рисуем графики распределений по ключевым демографическим признакам\n",
    "fig, axes = plt.subplots(3, 2, figsize=(18, 18))\n",
    "axes = axes.flatten()\n",
    "\n",
    "demo_cols = ['AGE_DESC', 'INCOME_DESC', 'MARITAL_STATUS_CODE', 'HOMEOWNER_DESC', 'HH_COMP_DESC', 'HOUSEHOLD_SIZE_DESC']\n",
    "\n",
    "for i, col in enumerate(demo_cols):\n",
    "    sns.countplot(ax=axes[i], x=col, data=combined_data, order=combined_data[col].value_counts().index)\n",
    "    axes[i].set_title(f\"Распределение клиентской базы по {col}\")\n",
    "    axes[i].set_xlabel(col)\n",
    "    axes[i].set_ylabel(\"Количество транзакций\")\n",
    "    axes[i].tick_params(axis=\"x\", rotation=45)\n",
    "\n",
    "plt.tight_layout()\n",
    "plt.show()"
   ]
  },
  {
   "cell_type": "markdown",
   "id": "a7140efb",
   "metadata": {
    "papermill": {
     "duration": 0.008635,
     "end_time": "2025-06-06T16:47:45.995061",
     "exception": false,
     "start_time": "2025-06-06T16:47:45.986426",
     "status": "completed"
    },
    "tags": []
   },
   "source": [
    "##### Анализ популярности категорий товаров #####"
   ]
  },
  {
   "cell_type": "code",
   "execution_count": 10,
   "id": "2ef13c58",
   "metadata": {
    "execution": {
     "iopub.execute_input": "2025-06-06T16:47:46.014342Z",
     "iopub.status.busy": "2025-06-06T16:47:46.014093Z",
     "iopub.status.idle": "2025-06-06T16:47:46.701179Z",
     "shell.execute_reply": "2025-06-06T16:47:46.700460Z"
    },
    "papermill": {
     "duration": 0.698135,
     "end_time": "2025-06-06T16:47:46.702498",
     "exception": false,
     "start_time": "2025-06-06T16:47:46.004363",
     "status": "completed"
    },
    "tags": []
   },
   "outputs": [
    {
     "data": {
      "image/png": "[encoded data removed]",
      "text/plain": [
       "<Figure size 1200x600 with 1 Axes>"
      ]
     },
     "metadata": {},
     "output_type": "display_data"
    }
   ],
   "source": [
    "N = 10\n",
    "plt.figure(figsize=(12, 6))\n",
    "sns.countplot(data=combined_data, x=\"COMMODITY_DESC\",\n",
    "              order=combined_data[\"COMMODITY_DESC\"].value_counts().head(N).index)\n",
    "plt.title(f\"Топ-{N} самых популярных категорий товаров\")\n",
    "plt.xlabel(\"COMMODITY_DESC\")\n",
    "plt.ylabel(\"Количество покупок\")\n",
    "plt.xticks(rotation=90, ha=\"right\")\n",
    "plt.show()"
   ]
  },
  {
   "cell_type": "markdown",
   "id": "6efa658d",
   "metadata": {
    "papermill": {
     "duration": 0.009557,
     "end_time": "2025-06-06T16:47:46.722417",
     "exception": false,
     "start_time": "2025-06-06T16:47:46.712860",
     "status": "completed"
    },
    "tags": []
   },
   "source": [
    "### Выводы ###\n",
    "В данных очень много пропусков, однако удалять их нельзя, т.к. мы существенно потеряем в объеме данных по клиентам. В основном не размечены демографические признаки клиентов. Следственно, при анализе распределений мы видим доминирование \"Unknown\" во всех графиках. \n",
    "С этим можно и нужно работать, т.к. не размеченные дем.признаки не мешают формировать рекомендации для клиента, хотя и в ущерб качеству. "
   ]
  },
  {
   "cell_type": "markdown",
   "id": "98b46c4a",
   "metadata": {
    "papermill": {
     "duration": 0.00964,
     "end_time": "2025-06-06T16:47:46.742033",
     "exception": false,
     "start_time": "2025-06-06T16:47:46.732393",
     "status": "completed"
    },
    "tags": []
   },
   "source": [
    "### Этап 3: Baseline User-Based модель — Collaborative Filtering  ###\n",
    "##### Мы строим простую модель на основе схожести пользователей. Она формирует рекомендации, основываясь на поведении похожих пользователей. #####"
   ]
  },
  {
   "cell_type": "code",
   "execution_count": 11,
   "id": "11432a73",
   "metadata": {
    "execution": {
     "iopub.execute_input": "2025-06-06T16:47:46.763447Z",
     "iopub.status.busy": "2025-06-06T16:47:46.762945Z",
     "iopub.status.idle": "2025-06-06T16:47:46.770378Z",
     "shell.execute_reply": "2025-06-06T16:47:46.769656Z"
    },
    "papermill": {
     "duration": 0.019216,
     "end_time": "2025-06-06T16:47:46.771483",
     "exception": false,
     "start_time": "2025-06-06T16:47:46.752267",
     "status": "completed"
    },
    "tags": []
   },
   "outputs": [],
   "source": [
    "# Создаем матрицу взаимодействий\n",
    "def create_interaction_matrix(df):\n",
    "    interactions = (\n",
    "        df.groupby([\"household_key\", \"PRODUCT_ID\"]).size().reset_index(name=\"frequency\")\n",
    "    )\n",
    "    user_ids = interactions[\"household_key\"].unique()\n",
    "    product_ids = interactions[\"PRODUCT_ID\"].unique()\n",
    "\n",
    "    user_id_map = {user_id: i for i, user_id in enumerate(user_ids)}\n",
    "    product_id_map = {product_id: i for i, product_id in enumerate(product_ids)}\n",
    "\n",
    "    row_ind = interactions[\"household_key\"].apply(lambda x: user_id_map[x])\n",
    "    col_ind = interactions[\"PRODUCT_ID\"].apply(lambda x: product_id_map[x])\n",
    "    data = interactions[\"frequency\"]\n",
    "\n",
    "    interaction_matrix = csr_matrix(\n",
    "        (data, (row_ind, col_ind)), shape=(len(user_ids), len(product_ids))\n",
    "    )\n",
    "    return interaction_matrix, user_id_map, product_id_map"
   ]
  },
  {
   "cell_type": "code",
   "execution_count": 12,
   "id": "a39250e5",
   "metadata": {
    "execution": {
     "iopub.execute_input": "2025-06-06T16:47:46.792294Z",
     "iopub.status.busy": "2025-06-06T16:47:46.791849Z",
     "iopub.status.idle": "2025-06-06T16:47:47.434503Z",
     "shell.execute_reply": "2025-06-06T16:47:47.433583Z"
    },
    "papermill": {
     "duration": 0.654639,
     "end_time": "2025-06-06T16:47:47.435877",
     "exception": false,
     "start_time": "2025-06-06T16:47:46.781238",
     "status": "completed"
    },
    "tags": []
   },
   "outputs": [],
   "source": [
    "# Сортируем данные по времени\n",
    "combined_for_cf = combined_data.sort_values(by=\"DAY\")"
   ]
  },
  {
   "cell_type": "code",
   "execution_count": 13,
   "id": "955898b9",
   "metadata": {
    "execution": {
     "iopub.execute_input": "2025-06-06T16:47:47.457046Z",
     "iopub.status.busy": "2025-06-06T16:47:47.456639Z",
     "iopub.status.idle": "2025-06-06T16:47:47.460563Z",
     "shell.execute_reply": "2025-06-06T16:47:47.459993Z"
    },
    "papermill": {
     "duration": 0.015198,
     "end_time": "2025-06-06T16:47:47.461578",
     "exception": false,
     "start_time": "2025-06-06T16:47:47.446380",
     "status": "completed"
    },
    "tags": []
   },
   "outputs": [],
   "source": [
    "# Time-based split\n",
    "train_size = int(0.8 * len(combined_for_cf))\n",
    "train_df = combined_for_cf.iloc[:train_size]\n",
    "test_df = combined_for_cf.iloc[train_size:]"
   ]
  },
  {
   "cell_type": "code",
   "execution_count": 14,
   "id": "f368c070",
   "metadata": {
    "execution": {
     "iopub.execute_input": "2025-06-06T16:47:47.482086Z",
     "iopub.status.busy": "2025-06-06T16:47:47.481638Z",
     "iopub.status.idle": "2025-06-06T16:47:49.228722Z",
     "shell.execute_reply": "2025-06-06T16:47:49.228089Z"
    },
    "papermill": {
     "duration": 1.758691,
     "end_time": "2025-06-06T16:47:49.230097",
     "exception": false,
     "start_time": "2025-06-06T16:47:47.471406",
     "status": "completed"
    },
    "tags": []
   },
   "outputs": [],
   "source": [
    "# Генерируем матрицы\n",
    "interaction_train, user_id_map_train, product_id_map_train = create_interaction_matrix(\n",
    "    train_df\n",
    ")\n",
    "interaction_test, user_id_map_test, product_id_map_test = create_interaction_matrix(\n",
    "    test_df\n",
    ")"
   ]
  },
  {
   "cell_type": "code",
   "execution_count": 15,
   "id": "dcd69720",
   "metadata": {
    "execution": {
     "iopub.execute_input": "2025-06-06T16:47:49.253394Z",
     "iopub.status.busy": "2025-06-06T16:47:49.253012Z",
     "iopub.status.idle": "2025-06-06T16:47:49.884915Z",
     "shell.execute_reply": "2025-06-06T16:47:49.883834Z"
    },
    "papermill": {
     "duration": 0.645563,
     "end_time": "2025-06-06T16:47:49.886985",
     "exception": false,
     "start_time": "2025-06-06T16:47:49.241422",
     "status": "completed"
    },
    "tags": []
   },
   "outputs": [],
   "source": [
    "# Вычисляем сходства между пользователями\n",
    "def calculate_user_similarity(matrix):\n",
    "    return cosine_similarity(matrix)\n",
    "\n",
    "\n",
    "user_similarity = calculate_user_similarity(interaction_train)"
   ]
  },
  {
   "cell_type": "code",
   "execution_count": 16,
   "id": "9945d636",
   "metadata": {
    "execution": {
     "iopub.execute_input": "2025-06-06T16:47:49.920236Z",
     "iopub.status.busy": "2025-06-06T16:47:49.919821Z",
     "iopub.status.idle": "2025-06-06T16:47:49.929201Z",
     "shell.execute_reply": "2025-06-06T16:47:49.928339Z"
    },
    "papermill": {
     "duration": 0.029056,
     "end_time": "2025-06-06T16:47:49.931305",
     "exception": false,
     "start_time": "2025-06-06T16:47:49.902249",
     "status": "completed"
    },
    "tags": []
   },
   "outputs": [],
   "source": [
    "# Формирование рекомендации\n",
    "def recommend_user_based(\n",
    "    user_id,\n",
    "    interaction_matrix,\n",
    "    user_similarity,\n",
    "    user_id_map,\n",
    "    product_id_map,\n",
    "    k=20,\n",
    "    n=10,\n",
    "):\n",
    "    if user_id not in user_id_map:\n",
    "        return []\n",
    "    user_index = user_id_map[user_id]\n",
    "    inverse_product_id_map = {i: pid for pid, i in product_id_map.items()}\n",
    "\n",
    "    similar_users = np.argsort(user_similarity[user_index])[::-1][1 : k + 1]\n",
    "\n",
    "    recommended_products = {}\n",
    "    for idx in similar_users:\n",
    "        bought_items = interaction_matrix[idx].nonzero()[1]\n",
    "        for item in bought_items:\n",
    "            pid = inverse_product_id_map[item]\n",
    "            if pid not in recommended_products:\n",
    "                recommended_products[pid] = 0\n",
    "            recommended_products[pid] += 1\n",
    "\n",
    "    bought_items = interaction_matrix[user_index].nonzero()[1]\n",
    "    already_bought = [inverse_product_id_map[i] for i in bought_items]\n",
    "\n",
    "    recommended_products = {\n",
    "        k: v for k, v in recommended_products.items() if k not in already_bought\n",
    "    }\n",
    "    sorted_products = sorted(\n",
    "        recommended_products.items(), key=lambda x: x[1], reverse=True\n",
    "    )\n",
    "    top_n_products = [p for p, _ in sorted_products[:n]]\n",
    "    return top_n_products"
   ]
  },
  {
   "cell_type": "code",
   "execution_count": 17,
   "id": "3399eafb",
   "metadata": {
    "execution": {
     "iopub.execute_input": "2025-06-06T16:47:49.963974Z",
     "iopub.status.busy": "2025-06-06T16:47:49.963690Z",
     "iopub.status.idle": "2025-06-06T16:47:49.977370Z",
     "shell.execute_reply": "2025-06-06T16:47:49.976533Z"
    },
    "papermill": {
     "duration": 0.032474,
     "end_time": "2025-06-06T16:47:49.979126",
     "exception": false,
     "start_time": "2025-06-06T16:47:49.946652",
     "status": "completed"
    },
    "tags": []
   },
   "outputs": [],
   "source": [
    "# Оценка качества\n",
    "def evaluate_recommendations(\n",
    "    test_matrix,\n",
    "    recommend_function,\n",
    "    user_similarity,\n",
    "    user_id_map,\n",
    "    product_id_map,\n",
    "    k=20,\n",
    "    n=10,\n",
    "):\n",
    "    precisions = []\n",
    "    recalls = []\n",
    "    f_scores = []\n",
    "    maps = []\n",
    "    ndcgs = []\n",
    "    hit_rates = []\n",
    "\n",
    "    inverse_user_id_map = {i: user_id for user_id, i in user_id_map.items()}\n",
    "    inverse_product_id_map = {i: product_id for product_id, i in product_id_map.items()}\n",
    "\n",
    "    for user_index in range(test_matrix.shape[0]):\n",
    "        user_id = inverse_user_id_map.get(user_index, None)\n",
    "        if user_id is None:\n",
    "            continue\n",
    "\n",
    "        relevant_products = test_matrix[user_index].nonzero()[1]\n",
    "        relevant_products = [inverse_product_id_map[i] for i in relevant_products]\n",
    "\n",
    "        recommended_products = recommend_function(\n",
    "            user_id,\n",
    "            interaction_train,\n",
    "            user_similarity,\n",
    "            user_id_map,\n",
    "            product_id_map,\n",
    "            k,\n",
    "            n,\n",
    "        )\n",
    "        if not relevant_products or not recommended_products:\n",
    "            continue\n",
    "\n",
    "        num_relevant = len(set(recommended_products).intersection(relevant_products))\n",
    "        precision = num_relevant / len(recommended_products)\n",
    "        recall = num_relevant / len(relevant_products)\n",
    "        f_score = (\n",
    "            2 * (precision * recall) / (precision + recall)\n",
    "            if precision + recall > 0\n",
    "            else 0.0\n",
    "        )\n",
    "\n",
    "        avg_precision = 0.0\n",
    "        num_rel = 0\n",
    "        for i in range(min(n, len(recommended_products))):\n",
    "            if recommended_products[i] in relevant_products:\n",
    "                num_rel += 1\n",
    "                avg_precision += num_rel / (i + 1)\n",
    "        map_score = (\n",
    "            avg_precision / max(1, len(relevant_products))\n",
    "            if len(relevant_products) > 0\n",
    "            else 0.0\n",
    "        )\n",
    "\n",
    "        try:\n",
    "            y_true = np.zeros(len(recommended_products))\n",
    "            for i, p in enumerate(recommended_products):\n",
    "                if p in relevant_products:\n",
    "                    y_true[i] = 1\n",
    "            y_pred = np.linspace(1, 0, len(recommended_products))\n",
    "            ndcg = ndcg_score([y_true], [y_pred], k=n)\n",
    "        except:\n",
    "            ndcg = np.nan\n",
    "\n",
    "        hit_rate = 1 if num_relevant > 0 else 0\n",
    "\n",
    "        precisions.append(precision)\n",
    "        recalls.append(recall)\n",
    "        f_scores.append(f_score)\n",
    "        maps.append(map_score)\n",
    "        ndcgs.append(ndcg)\n",
    "        hit_rates.append(hit_rate)\n",
    "\n",
    "    mean_precision = np.mean(precisions) if precisions else 0\n",
    "    mean_recall = np.mean(recalls) if recalls else 0\n",
    "    mean_f_score = np.mean(f_scores) if f_scores else 0\n",
    "    mean_map = np.mean(maps) if maps else 0\n",
    "    mean_ndcg = (\n",
    "        np.mean([score for score in ndcgs if not np.isnan(score)])\n",
    "        if any(not np.isnan(s) for s in ndcgs)\n",
    "        else 0\n",
    "    )\n",
    "    mean_hit_rate = np.mean(hit_rates) if hit_rates else 0\n",
    "\n",
    "    print(f\"Mean Precision@{n}: {mean_precision:.4f}\")\n",
    "    print(f\"Mean Recall@{n}: {mean_recall:.4f}\")\n",
    "    print(f\"Mean F-score@{n}: {mean_f_score:.4f}\")\n",
    "    print(f\"Mean MAP@{n}: {mean_map:.4f}\")\n",
    "    print(f\"Mean NDCG@{n}: {mean_ndcg:.4f}\")\n",
    "    print(f\"Mean Hit Rate@{n}: {mean_hit_rate:.4f}\")\n",
    "\n",
    "    return {\n",
    "        \"precision\": mean_precision,\n",
    "        \"recall\": mean_recall,\n",
    "        \"f_score\": mean_f_score,\n",
    "        \"map\": mean_map,\n",
    "        \"ndcg\": mean_ndcg,\n",
    "        \"hit_rate\": mean_hit_rate,\n",
    "    }"
   ]
  },
  {
   "cell_type": "code",
   "execution_count": 18,
   "id": "af039fd3",
   "metadata": {
    "execution": {
     "iopub.execute_input": "2025-06-06T16:47:50.011852Z",
     "iopub.status.busy": "2025-06-06T16:47:50.011122Z",
     "iopub.status.idle": "2025-06-06T16:52:07.475003Z",
     "shell.execute_reply": "2025-06-06T16:52:07.474173Z"
    },
    "papermill": {
     "duration": 257.494075,
     "end_time": "2025-06-06T16:52:07.487669",
     "exception": false,
     "start_time": "2025-06-06T16:47:49.993594",
     "status": "completed"
    },
    "tags": []
   },
   "outputs": [
    {
     "name": "stdout",
     "output_type": "stream",
     "text": [
      "\n",
      "User-Based Collaborative Filtering - Personalized Recommendations (K=20):\n",
      "Mean Precision@10: 0.0147\n",
      "Mean Recall@10: 0.0011\n",
      "Mean F-score@10: 0.0019\n",
      "Mean MAP@10: 0.0003\n",
      "Mean NDCG@10: 0.0614\n",
      "Mean Hit Rate@10: 0.1303\n"
     ]
    }
   ],
   "source": [
    "print(\"\\nUser-Based Collaborative Filtering - Personalized Recommendations (K=20):\")\n",
    "baseline_metrics = evaluate_recommendations(\n",
    "    interaction_test,\n",
    "    recommend_user_based,\n",
    "    user_similarity,\n",
    "    user_id_map_train,\n",
    "    product_id_map_train,\n",
    "    k=20,\n",
    "    n=10,\n",
    ")"
   ]
  },
  {
   "cell_type": "markdown",
   "id": "4f59e354",
   "metadata": {
    "papermill": {
     "duration": 0.010988,
     "end_time": "2025-06-06T16:52:07.569129",
     "exception": false,
     "start_time": "2025-06-06T16:52:07.558141",
     "status": "completed"
    },
    "tags": []
   },
   "source": [
    "### Этап 4: Усложнённая модель — XGBoost Ranker  ###\n",
    "##### Для улучшения рекомендаций я решил использовать более сложную модель на основе градиентного бустинга. \n",
    "##### Модель XGBRanker умеет работать с ранжированием, что подходит для задачи персонализированных рекомендаций."
   ]
  },
  {
   "cell_type": "code",
   "execution_count": 19,
   "id": "c68a8fe9",
   "metadata": {
    "execution": {
     "iopub.execute_input": "2025-06-06T16:52:07.592762Z",
     "iopub.status.busy": "2025-06-06T16:52:07.592462Z",
     "iopub.status.idle": "2025-06-06T16:52:07.596099Z",
     "shell.execute_reply": "2025-06-06T16:52:07.595533Z"
    },
    "papermill": {
     "duration": 0.017008,
     "end_time": "2025-06-06T16:52:07.597291",
     "exception": false,
     "start_time": "2025-06-06T16:52:07.580283",
     "status": "completed"
    },
    "tags": []
   },
   "outputs": [],
   "source": [
    "# Игнорируем ошибки\n",
    "warnings.filterwarnings('ignore')"
   ]
  },
  {
   "cell_type": "code",
   "execution_count": 20,
   "id": "a674b61c",
   "metadata": {
    "execution": {
     "iopub.execute_input": "2025-06-06T16:52:07.620767Z",
     "iopub.status.busy": "2025-06-06T16:52:07.620488Z",
     "iopub.status.idle": "2025-06-06T16:52:07.689198Z",
     "shell.execute_reply": "2025-06-06T16:52:07.688533Z"
    },
    "papermill": {
     "duration": 0.081742,
     "end_time": "2025-06-06T16:52:07.690379",
     "exception": false,
     "start_time": "2025-06-06T16:52:07.608637",
     "status": "completed"
    },
    "tags": []
   },
   "outputs": [
    {
     "name": "stdout",
     "output_type": "stream",
     "text": [
      "Инициализация...\n",
      "Используется устройство: CUDA\n"
     ]
    }
   ],
   "source": [
    "# Проверяем доступность GPU и инициалиируемся\n",
    "print(\"Инициализация...\")\n",
    "device = 'cuda' if torch.cuda.is_available() else 'cpu'\n",
    "print(f\"Используется устройство: {device.upper()}\")\n",
    "torch.manual_seed(42)\n",
    "np.random.seed(42)"
   ]
  },
  {
   "cell_type": "code",
   "execution_count": 21,
   "id": "ee8b626e",
   "metadata": {
    "execution": {
     "iopub.execute_input": "2025-06-06T16:52:07.712227Z",
     "iopub.status.busy": "2025-06-06T16:52:07.711990Z",
     "iopub.status.idle": "2025-06-06T16:52:07.717314Z",
     "shell.execute_reply": "2025-06-06T16:52:07.716695Z"
    },
    "papermill": {
     "duration": 0.017231,
     "end_time": "2025-06-06T16:52:07.718453",
     "exception": false,
     "start_time": "2025-06-06T16:52:07.701222",
     "status": "completed"
    },
    "tags": []
   },
   "outputs": [],
   "source": [
    "# Функция загрузки и подготовки данных\n",
    "def load_and_prepare_data(df):\n",
    "    print(\"Загрузка и подготовка данных\")\n",
    "\n",
    "    required_cols = [\n",
    "        \"household_key\",\n",
    "        \"PRODUCT_ID\",\n",
    "        \"QUANTITY\",\n",
    "        \"DEPARTMENT\",\n",
    "        \"BRAND\",\n",
    "        \"COMMODITY_DESC\",\n",
    "        \"AGE_DESC\",\n",
    "        \"INCOME_DESC\",\n",
    "        \"HOMEOWNER_DESC\",\n",
    "        \"DAY\",\n",
    "    ]\n",
    "    missing_cols = [col for col in required_cols if col not in df.columns]\n",
    "    if missing_cols:\n",
    "        raise ValueError(f\"Отсутствуют необходимые колонки: {missing_cols}\")\n",
    "\n",
    "    df = df.copy()\n",
    "    for col in [\n",
    "        \"DEPARTMENT\",\n",
    "        \"BRAND\",\n",
    "        \"COMMODITY_DESC\",\n",
    "        \"AGE_DESC\",\n",
    "        \"INCOME_DESC\",\n",
    "        \"HOMEOWNER_DESC\",\n",
    "    ]:\n",
    "        if col in df.columns:\n",
    "            df[col] = df[col].astype(\"category\")\n",
    "            if \"UNKNOWN\" not in df[col].cat.categories:\n",
    "                df[col] = df[col].cat.add_categories(\"UNKNOWN\")\n",
    "            df[col] = df[col].fillna(\"UNKNOWN\")\n",
    "\n",
    "    return df"
   ]
  },
  {
   "cell_type": "code",
   "execution_count": 22,
   "id": "e54c6a1f",
   "metadata": {
    "execution": {
     "iopub.execute_input": "2025-06-06T16:52:07.740799Z",
     "iopub.status.busy": "2025-06-06T16:52:07.740609Z",
     "iopub.status.idle": "2025-06-06T16:52:07.745452Z",
     "shell.execute_reply": "2025-06-06T16:52:07.744840Z"
    },
    "papermill": {
     "duration": 0.017047,
     "end_time": "2025-06-06T16:52:07.746553",
     "exception": false,
     "start_time": "2025-06-06T16:52:07.729506",
     "status": "completed"
    },
    "tags": []
   },
   "outputs": [],
   "source": [
    "# Обогощаем данные фичами\n",
    "def enrich_features(df):\n",
    "    print(\"Обогащение фичей\")\n",
    "\n",
    "    # Сколько раз пользователь покупал этот товар\n",
    "    df[\"user_item_count\"] = df.groupby([\"user_id\", \"item_id\"])[\"QUANTITY\"].transform(\n",
    "        \"sum\"\n",
    "    )\n",
    "\n",
    "    # Популярность товара (сколько пользователей его купило)\n",
    "    item_popularity = df.groupby(\"item_id\")[\"user_id\"].nunique()\n",
    "    df[\"item_popularity\"] = df[\"item_id\"].map(item_popularity)\n",
    "\n",
    "    # Частота покупок категории пользователем\n",
    "    df[\"category_user_freq\"] = df.groupby([\"user_id\", \"COMMODITY_DESC\"])[\n",
    "        \"QUANTITY\"\n",
    "    ].transform(\"sum\")\n",
    "\n",
    "    # Частота покупок бренда пользователем\n",
    "    df[\"brand_user_freq\"] = df.groupby([\"user_id\", \"BRAND\"])[\"QUANTITY\"].transform(\n",
    "        \"sum\"\n",
    "    )\n",
    "\n",
    "    # Ранг товара по частоте покупки им\n",
    "    df[\"item_user_rank\"] = df.groupby(\"user_id\")[\"user_item_count\"].rank(\n",
    "        method=\"first\", ascending=False\n",
    "    )\n",
    "\n",
    "    return df"
   ]
  },
  {
   "cell_type": "code",
   "execution_count": 23,
   "id": "b5aa906b",
   "metadata": {
    "execution": {
     "iopub.execute_input": "2025-06-06T16:52:07.768698Z",
     "iopub.status.busy": "2025-06-06T16:52:07.768483Z",
     "iopub.status.idle": "2025-06-06T16:52:07.772763Z",
     "shell.execute_reply": "2025-06-06T16:52:07.772186Z"
    },
    "papermill": {
     "duration": 0.016491,
     "end_time": "2025-06-06T16:52:07.773734",
     "exception": false,
     "start_time": "2025-06-06T16:52:07.757243",
     "status": "completed"
    },
    "tags": []
   },
   "outputs": [],
   "source": [
    "# Энкодим фичи\n",
    "def encode_features(df):\n",
    "    print(\"Кодирование фичей\")\n",
    "\n",
    "    user_encoder = LabelEncoder()\n",
    "    item_encoder = LabelEncoder()\n",
    "    df[\"user_id\"] = user_encoder.fit_transform(df[\"household_key\"])\n",
    "    df[\"item_id\"] = item_encoder.fit_transform(df[\"PRODUCT_ID\"])\n",
    "\n",
    "    encoders = {\"user\": user_encoder, \"item\": item_encoder}\n",
    "    return df, encoders"
   ]
  },
  {
   "cell_type": "code",
   "execution_count": 24,
   "id": "51101e87",
   "metadata": {
    "execution": {
     "iopub.execute_input": "2025-06-06T16:52:07.799128Z",
     "iopub.status.busy": "2025-06-06T16:52:07.798608Z",
     "iopub.status.idle": "2025-06-06T16:52:07.803875Z",
     "shell.execute_reply": "2025-06-06T16:52:07.803181Z"
    },
    "papermill": {
     "duration": 0.020658,
     "end_time": "2025-06-06T16:52:07.805020",
     "exception": false,
     "start_time": "2025-06-06T16:52:07.784362",
     "status": "completed"
    },
    "tags": []
   },
   "outputs": [],
   "source": [
    "# Создаем фичи товаров\n",
    "def create_item_features(df):\n",
    "    print(\"Создание фичей товаров\")\n",
    "\n",
    "    item_features = df[\n",
    "        [\"item_id\", \"DEPARTMENT\", \"BRAND\", \"COMMODITY_DESC\"]\n",
    "    ].drop_duplicates()\n",
    "\n",
    "    hasher = HashingVectorizer(n_features=50, alternate_sign=False)\n",
    "    text_data = (\n",
    "        item_features[\"DEPARTMENT\"].astype(str)\n",
    "        + \" \"\n",
    "        + item_features[\"BRAND\"].astype(str)\n",
    "        + \" \"\n",
    "        + item_features[\"COMMODITY_DESC\"].astype(str)\n",
    "    )\n",
    "    text_features = hasher.fit_transform(text_data)\n",
    "\n",
    "    svd = TruncatedSVD(n_components=15, random_state=42)\n",
    "    item_features_reduced = svd.fit_transform(text_features)\n",
    "\n",
    "    item_features_full = pd.DataFrame(\n",
    "        item_features_reduced,\n",
    "        index=item_features[\"item_id\"],\n",
    "        columns=[f\"item_f{i}\" for i in range(item_features_reduced.shape[1])],\n",
    "    )\n",
    "\n",
    "    return item_features_full, hasher, svd"
   ]
  },
  {
   "cell_type": "code",
   "execution_count": 25,
   "id": "ebe85f5f",
   "metadata": {
    "execution": {
     "iopub.execute_input": "2025-06-06T16:52:07.828148Z",
     "iopub.status.busy": "2025-06-06T16:52:07.827536Z",
     "iopub.status.idle": "2025-06-06T16:52:07.831853Z",
     "shell.execute_reply": "2025-06-06T16:52:07.831367Z"
    },
    "papermill": {
     "duration": 0.01714,
     "end_time": "2025-06-06T16:52:07.832936",
     "exception": false,
     "start_time": "2025-06-06T16:52:07.815796",
     "status": "completed"
    },
    "tags": []
   },
   "outputs": [],
   "source": [
    "# Создаем фичи пользователей\n",
    "def create_user_features(df):\n",
    "    print(\"Создание фичей пользователей\")\n",
    "\n",
    "    user_features = df[\n",
    "        [\"user_id\", \"AGE_DESC\", \"INCOME_DESC\", \"HOMEOWNER_DESC\"]\n",
    "    ].drop_duplicates()\n",
    "\n",
    "    ohe = OneHotEncoder(handle_unknown=\"ignore\", sparse_output=False)\n",
    "    user_features_ohe = ohe.fit_transform(\n",
    "        user_features[[\"AGE_DESC\", \"INCOME_DESC\", \"HOMEOWNER_DESC\"]]\n",
    "    )\n",
    "\n",
    "    feature_names = ohe.get_feature_names_out(\n",
    "        [\"AGE_DESC\", \"INCOME_DESC\", \"HOMEOWNER_DESC\"]\n",
    "    )\n",
    "\n",
    "    user_features_full = pd.DataFrame(\n",
    "        user_features_ohe, index=user_features[\"user_id\"], columns=feature_names\n",
    "    )\n",
    "\n",
    "    return user_features_full, ohe"
   ]
  },
  {
   "cell_type": "code",
   "execution_count": 26,
   "id": "c6027de5",
   "metadata": {
    "execution": {
     "iopub.execute_input": "2025-06-06T16:52:07.856974Z",
     "iopub.status.busy": "2025-06-06T16:52:07.856598Z",
     "iopub.status.idle": "2025-06-06T16:52:07.865909Z",
     "shell.execute_reply": "2025-06-06T16:52:07.865098Z"
    },
    "papermill": {
     "duration": 0.02303,
     "end_time": "2025-06-06T16:52:07.867148",
     "exception": false,
     "start_time": "2025-06-06T16:52:07.844118",
     "status": "completed"
    },
    "tags": []
   },
   "outputs": [],
   "source": [
    "# Подготовка данных для обучения\n",
    "def prepare_training_data(df, user_features, item_features):\n",
    "    print(\"Подготовка данных для обучения\")\n",
    "\n",
    "    df = enrich_features(df)\n",
    "\n",
    "    # Сортируем по времени перед разбиением\n",
    "    df = df.sort_values(by=\"DAY\")\n",
    "\n",
    "    user_items = df.groupby(\"user_id\")[\"item_id\"].apply(list).to_dict()\n",
    "    user_targets = df.groupby(\"user_id\")[\"QUANTITY\"].apply(list).to_dict()\n",
    "\n",
    "    X, y, groups = [], [], []\n",
    "\n",
    "    for user_id, items in user_items.items():\n",
    "        user_feat = user_features.loc[user_id].values\n",
    "        item_feat = item_features.loc[items].values\n",
    "\n",
    "        group_df = df[df[\"user_id\"] == user_id]\n",
    "        extra_features = group_df[\n",
    "            [\n",
    "                \"user_item_count\",\n",
    "                \"item_popularity\",\n",
    "                \"category_user_freq\",\n",
    "                \"brand_user_freq\",\n",
    "                \"item_user_rank\",\n",
    "            ]\n",
    "        ].values\n",
    "\n",
    "        user_feat_repeated = np.tile(user_feat, (len(items), 1))\n",
    "        combined_features = np.hstack([user_feat_repeated, item_feat, extra_features])\n",
    "\n",
    "        X.extend(combined_features)\n",
    "        y.extend(group_df[\"QUANTITY\"].values)\n",
    "        groups.append(len(items))\n",
    "\n",
    "    X = np.array(X)\n",
    "    y = np.array(y)\n",
    "    groups = np.array(groups)\n",
    "\n",
    "    # Преобразуем таргет в целые числа\n",
    "    y = np.clip(np.log1p(y), 0, 10)  # Логарифмируем и обрезаем\n",
    "    y = y.astype(int)\n",
    "\n",
    "    # Time-based split: последние 20% как тест\n",
    "    test_size = int(0.2 * len(groups))\n",
    "    train_indices = np.arange(len(groups) - test_size)\n",
    "    test_indices = np.arange(len(groups) - test_size, len(groups))\n",
    "\n",
    "    def stack_group_data(indices):\n",
    "        starts = np.cumsum([0] + list(groups[indices]))\n",
    "        X_grouped = np.vstack(\n",
    "            [X[starts[i] : starts[i + 1]] for i in range(len(indices))]\n",
    "        )\n",
    "        y_grouped = np.hstack(\n",
    "            [y[starts[i] : starts[i + 1]] for i in range(len(indices))]\n",
    "        )\n",
    "        return X_grouped, y_grouped, groups[indices]\n",
    "\n",
    "    X_train, y_train, train_groups = stack_group_data(train_indices)\n",
    "    X_test, y_test, test_groups = stack_group_data(test_indices)\n",
    "\n",
    "    print(f\"Данные подготовлены:\")\n",
    "    print(f\"- Train: {X_train.shape[0]} samples, {len(train_groups)} users\")\n",
    "    print(f\"- Test: {X_test.shape[0]} samples, {len(test_groups)} users\")\n",
    "\n",
    "    return X_train, X_test, y_train, y_test, train_groups, test_groups"
   ]
  },
  {
   "cell_type": "code",
   "execution_count": 27,
   "id": "c953d715",
   "metadata": {
    "execution": {
     "iopub.execute_input": "2025-06-06T16:52:07.890710Z",
     "iopub.status.busy": "2025-06-06T16:52:07.890020Z",
     "iopub.status.idle": "2025-06-06T16:52:07.899848Z",
     "shell.execute_reply": "2025-06-06T16:52:07.899260Z"
    },
    "papermill": {
     "duration": 0.022759,
     "end_time": "2025-06-06T16:52:07.901090",
     "exception": false,
     "start_time": "2025-06-06T16:52:07.878331",
     "status": "completed"
    },
    "tags": []
   },
   "outputs": [],
   "source": [
    "# Оценка модели\n",
    "def evaluate_model(model, X_test, y_test, test_groups, k=10):\n",
    "    predictions = model.predict(X_test)\n",
    "\n",
    "    precision_scores = []\n",
    "    recall_scores = []\n",
    "    f_score_scores = []\n",
    "    map_scores = []\n",
    "    ndcg_scores = []\n",
    "    hit_rates = []\n",
    "\n",
    "    start_idx = 0\n",
    "    for group_size in test_groups:\n",
    "        end_idx = start_idx + group_size\n",
    "        y_true = y_test[start_idx:end_idx]\n",
    "        y_pred = predictions[start_idx:end_idx]\n",
    "\n",
    "        # Бинаризуем релевантность: > 0 значит релевантный товар\n",
    "        relevant = y_true > 0\n",
    "\n",
    "        effective_k = min(k, len(y_true))\n",
    "        top_k = np.argsort(-y_pred)[:effective_k]\n",
    "\n",
    "        pred_relevant = relevant[top_k]\n",
    "        precision = pred_relevant.sum() / effective_k if effective_k > 0 else 0\n",
    "\n",
    "        actual_relevant_count = relevant.sum()\n",
    "        recall = (\n",
    "            pred_relevant.sum() / max(1, actual_relevant_count)\n",
    "            if actual_relevant_count > 0\n",
    "            else 0\n",
    "        )\n",
    "\n",
    "        if precision + recall > 0:\n",
    "            f_score = 2 * precision * recall / (precision + recall)\n",
    "        else:\n",
    "            f_score = 0.0\n",
    "\n",
    "        avg_precision = 0.0\n",
    "        num_rel = 0\n",
    "        for i in range(effective_k):\n",
    "            if relevant[top_k[i]]:\n",
    "                num_rel += 1\n",
    "                avg_precision += num_rel / (i + 1)\n",
    "        map_score = (\n",
    "            avg_precision / max(1, actual_relevant_count)\n",
    "            if actual_relevant_count > 0\n",
    "            else 0.0\n",
    "        )\n",
    "\n",
    "        try:\n",
    "            ndcg = ndcg_score([y_true], [y_pred], k=effective_k)\n",
    "        except:\n",
    "            ndcg = np.nan\n",
    "\n",
    "        hit_rate = 1 if pred_relevant.any() else 0\n",
    "\n",
    "        precision_scores.append(precision)\n",
    "        recall_scores.append(recall)\n",
    "        f_score_scores.append(f_score)\n",
    "        map_scores.append(map_score)\n",
    "        ndcg_scores.append(ndcg)\n",
    "        hit_rates.append(hit_rate)\n",
    "\n",
    "        start_idx = end_idx\n",
    "\n",
    "    mean_precision = np.mean(precision_scores)\n",
    "    mean_recall = np.mean(recall_scores)\n",
    "    mean_f_score = np.mean(f_score_scores)\n",
    "    mean_map = np.mean(map_scores)\n",
    "    mean_ndcg = np.mean([score for score in ndcg_scores if not np.isnan(score)])\n",
    "    mean_hit_rate = np.mean(hit_rates)\n",
    "\n",
    "    print(\"Метрики качества:\")\n",
    "    print(f\"Mean Precision@{k}: {mean_precision:.4f}\")\n",
    "    print(f\"Mean Recall@{k}: {mean_recall:.4f}\")\n",
    "    print(f\"Mean F-score@{k}: {mean_f_score:.4f}\")\n",
    "    print(f\"Mean MAP@{k}: {mean_map:.4f}\")\n",
    "    print(f\"Mean NDCG@{k}: {mean_ndcg:.4f}\")\n",
    "    print(f\"Mean Hit Rate@{k}: {mean_hit_rate:.4f}\")\n",
    "\n",
    "    return {\n",
    "        \"precision\": mean_precision,\n",
    "        \"recall\": mean_recall,\n",
    "        \"f_score\": mean_f_score,\n",
    "        \"map\": mean_map,\n",
    "        \"ndcg\": mean_ndcg,\n",
    "        \"hit_rate\": mean_hit_rate,\n",
    "    }"
   ]
  },
  {
   "cell_type": "code",
   "execution_count": 28,
   "id": "13df1685",
   "metadata": {
    "execution": {
     "iopub.execute_input": "2025-06-06T16:52:07.925269Z",
     "iopub.status.busy": "2025-06-06T16:52:07.924710Z",
     "iopub.status.idle": "2025-06-06T16:52:07.936400Z",
     "shell.execute_reply": "2025-06-06T16:52:07.935593Z"
    },
    "papermill": {
     "duration": 0.025177,
     "end_time": "2025-06-06T16:52:07.937613",
     "exception": false,
     "start_time": "2025-06-06T16:52:07.912436",
     "status": "completed"
    },
    "tags": []
   },
   "outputs": [],
   "source": [
    "# Поиск гиперпараметров и поиск оптимальных параметров для модели\n",
    "def tune_model(\n",
    "    X_train, y_train, train_groups, n_iter=5, early_stopping_rounds=20, cv=3\n",
    "):\n",
    "    print(\"Настройка гиперпараметров\")\n",
    "\n",
    "    param_dist = {\n",
    "        \"n_estimators\": randint(100, 300),\n",
    "        \"max_depth\": randint(4, 10),\n",
    "        \"learning_rate\": uniform(0.01, 0.1),\n",
    "        \"subsample\": uniform(0.7, 0.3),\n",
    "        \"colsample_bytree\": uniform(0.7, 0.3),\n",
    "    }\n",
    "\n",
    "    base_model = XGBRanker(\n",
    "        objective=\"rank:ndcg\",\n",
    "        tree_method=\"hist\",\n",
    "        device=\"cuda\" if torch.cuda.is_available() else \"cpu\",\n",
    "        eval_metric=\"ndcg@10\",\n",
    "        early_stopping_rounds=early_stopping_rounds,\n",
    "        ndcg_exp_gain=False,\n",
    "        random_state=42,\n",
    "    )\n",
    "\n",
    "    param_list = list(ParameterSampler(param_dist, n_iter=n_iter, random_state=42))\n",
    "    cv_splitter = KFold(\n",
    "        n_splits=cv, shuffle=False, random_state=None\n",
    "    )  # НЕ перемешиваем!\n",
    "\n",
    "    best_score = -np.inf\n",
    "    best_params = None\n",
    "    best_model = None\n",
    "\n",
    "    for params in tqdm(param_list, desc=\"Перебор параметров\"):\n",
    "        model_scores = []\n",
    "        for fold, (train_idx, val_idx) in enumerate(\n",
    "            cv_splitter.split(X_train, y_train)\n",
    "        ):\n",
    "            X_tr, X_val = X_train[train_idx], X_train[val_idx]\n",
    "            y_tr, y_val = y_train[train_idx], y_train[val_idx]\n",
    "\n",
    "            # Восстанавливаем группы\n",
    "            group_tr = []\n",
    "            start = 0\n",
    "            for g in train_groups:\n",
    "                end = start + g\n",
    "                mask = np.arange(start, end)\n",
    "                overlap = np.intersect1d(mask, train_idx)\n",
    "                if len(overlap) > 0:\n",
    "                    group_tr.append(len(overlap))\n",
    "                start = end\n",
    "\n",
    "            group_val = []\n",
    "            start = 0\n",
    "            for g in train_groups:\n",
    "                end = start + g\n",
    "                mask = np.arange(start, end)\n",
    "                overlap = np.intersect1d(mask, val_idx)\n",
    "                if len(overlap) > 0:\n",
    "                    group_val.append(len(overlap))\n",
    "                start = end\n",
    "\n",
    "            assert sum(group_tr) == len(X_tr)\n",
    "            assert sum(group_val) == len(X_val)\n",
    "\n",
    "            model = base_model.set_params(**params)\n",
    "            try:\n",
    "                model.fit(\n",
    "                    X_tr,\n",
    "                    y_tr,\n",
    "                    group=group_tr,\n",
    "                    eval_set=[(X_val, y_val)],\n",
    "                    eval_group=[group_val],\n",
    "                    verbose=False,\n",
    "                )\n",
    "\n",
    "                preds = model.predict(X_val)\n",
    "                scores = []\n",
    "                start_idx = 0\n",
    "                for g in group_val:\n",
    "                    end_idx = start_idx + g\n",
    "                    y_true = y_val[start_idx:end_idx]\n",
    "                    y_pred = preds[start_idx:end_idx]\n",
    "                    if len(y_true) >= 10:\n",
    "                        score = ndcg_score([y_true], [y_pred], k=10)\n",
    "                        scores.append(score)\n",
    "                    start_idx = end_idx\n",
    "                fold_score = np.mean(scores) if scores else 0\n",
    "                model_scores.append(fold_score)\n",
    "            except Exception as e:\n",
    "                print(f\"Ошибка с параметрами {params} на фолде {fold}: {str(e)}\")\n",
    "                model_scores.append(-np.inf)\n",
    "\n",
    "        avg_score = np.mean(model_scores)\n",
    "        print(f\"Params: {params} → Score: {avg_score:.4f}\")\n",
    "\n",
    "        if avg_score > best_score:\n",
    "            best_score = avg_score\n",
    "            best_params = params\n",
    "            best_model = model\n",
    "\n",
    "    print(\"Лучшие параметры:\", best_params)\n",
    "    print(\"Лучший NDCG@10 на валидации:\", best_score)\n",
    "    return best_model"
   ]
  },
  {
   "cell_type": "code",
   "execution_count": 29,
   "id": "1dd76caf",
   "metadata": {
    "execution": {
     "iopub.execute_input": "2025-06-06T16:52:07.961077Z",
     "iopub.status.busy": "2025-06-06T16:52:07.960579Z",
     "iopub.status.idle": "2025-06-06T16:52:07.965232Z",
     "shell.execute_reply": "2025-06-06T16:52:07.964690Z"
    },
    "papermill": {
     "duration": 0.017576,
     "end_time": "2025-06-06T16:52:07.966242",
     "exception": false,
     "start_time": "2025-06-06T16:52:07.948666",
     "status": "completed"
    },
    "tags": []
   },
   "outputs": [],
   "source": [
    "# Вспомогательная функция для оценки\n",
    "def custom_scorer(model, X, y, groups):\n",
    "    preds = model.predict(X)\n",
    "    unique_groups = np.unique(groups)\n",
    "    scores = []\n",
    "\n",
    "    start_idx = 0\n",
    "    for g in unique_groups:\n",
    "        end_idx = start_idx + g\n",
    "        y_true = y[start_idx:end_idx]\n",
    "        y_pred = preds[start_idx:end_idx]\n",
    "        if len(y_true) >= 10:\n",
    "            score = ndcg_score([y_true], [y_pred], k=10)\n",
    "            scores.append(score)\n",
    "        start_idx = end_idx\n",
    "    return np.mean(scores) if scores else 0"
   ]
  },
  {
   "cell_type": "code",
   "execution_count": 30,
   "id": "5028ef1c",
   "metadata": {
    "execution": {
     "iopub.execute_input": "2025-06-06T16:52:07.989384Z",
     "iopub.status.busy": "2025-06-06T16:52:07.989134Z",
     "iopub.status.idle": "2025-06-06T16:52:07.994475Z",
     "shell.execute_reply": "2025-06-06T16:52:07.993938Z"
    },
    "papermill": {
     "duration": 0.018104,
     "end_time": "2025-06-06T16:52:07.995581",
     "exception": false,
     "start_time": "2025-06-06T16:52:07.977477",
     "status": "completed"
    },
    "tags": []
   },
   "outputs": [],
   "source": [
    "# Главный пайплайн\n",
    "# Главный пайплайн\n",
    "def main_pipeline(df):\n",
    "    try:\n",
    "        df = load_and_prepare_data(df)\n",
    "        df, encoders = encode_features(df)\n",
    "        item_features, hasher, svd = create_item_features(df)\n",
    "        user_features, ohe = create_user_features(df)\n",
    "\n",
    "        # Добавляем признаки в исходный датафрейм\n",
    "        df = enrich_features(df)\n",
    "\n",
    "        X_train, X_test, y_train, y_test, train_groups, test_groups = (\n",
    "            prepare_training_data(df, user_features, item_features)\n",
    "        )\n",
    "\n",
    "        best_model = tune_model(X_train, y_train, train_groups)\n",
    "        metrics = evaluate_model(best_model, X_test, y_test, test_groups)\n",
    "\n",
    "        # Сохранение модели\n",
    "        with open(\"xgb_ranker_model.pkl\", \"wb\") as f:\n",
    "            pickle.dump(best_model, f)\n",
    "\n",
    "        # Возвращаем все нужные объекты\n",
    "        return {\n",
    "            \"model\": best_model,\n",
    "            \"metrics\": metrics,\n",
    "            \"user_features\": user_features,\n",
    "            \"item_features\": item_features,\n",
    "            \"encoders\": encoders,\n",
    "            \"ohe\": ohe,\n",
    "            \"hasher\": hasher,\n",
    "            \"svd\": svd,\n",
    "            \"enriched_df\": df \n",
    "        }\n",
    "\n",
    "    except Exception as e:\n",
    "        print(f\"Ошибка в пайплайне: {str(e)}\")\n",
    "        raise"
   ]
  },
  {
   "cell_type": "code",
   "execution_count": 31,
   "id": "5c2798d8",
   "metadata": {
    "execution": {
     "iopub.execute_input": "2025-06-06T16:52:08.018950Z",
     "iopub.status.busy": "2025-06-06T16:52:08.018740Z",
     "iopub.status.idle": "2025-06-06T17:07:50.825670Z",
     "shell.execute_reply": "2025-06-06T17:07:50.824893Z"
    },
    "papermill": {
     "duration": 942.820262,
     "end_time": "2025-06-06T17:07:50.827016",
     "exception": false,
     "start_time": "2025-06-06T16:52:08.006754",
     "status": "completed"
    },
    "tags": []
   },
   "outputs": [
    {
     "name": "stdout",
     "output_type": "stream",
     "text": [
      "Загрузка и подготовка данных\n",
      "Кодирование фичей\n",
      "Создание фичей товаров\n",
      "Создание фичей пользователей\n",
      "Обогащение фичей\n",
      "Подготовка данных для обучения\n",
      "Обогащение фичей\n",
      "Данные подготовлены:\n",
      "- Train: 1099643 samples, 2000 users\n",
      "- Test: 301826 samples, 500 users\n",
      "Настройка гиперпараметров\n"
     ]
    },
    {
     "name": "stderr",
     "output_type": "stream",
     "text": [
      "Перебор параметров:  20%|██        | 1/5 [03:07<12:30, 187.54s/it]"
     ]
    },
    {
     "name": "stdout",
     "output_type": "stream",
     "text": [
      "Params: {'colsample_bytree': 0.8123620356542087, 'learning_rate': 0.10507143064099161, 'max_depth': 6, 'n_estimators': 171, 'subsample': 0.8795975452591109} → Score: 0.9980\n"
     ]
    },
    {
     "name": "stderr",
     "output_type": "stream",
     "text": [
      "Перебор параметров:  40%|████      | 2/5 [06:10<09:15, 185.12s/it]"
     ]
    },
    {
     "name": "stdout",
     "output_type": "stream",
     "text": [
      "Params: {'colsample_bytree': 0.7468055921327309, 'learning_rate': 0.025599452033620268, 'max_depth': 6, 'n_estimators': 187, 'subsample': 0.8001125833417065} → Score: 0.9963\n"
     ]
    },
    {
     "name": "stderr",
     "output_type": "stream",
     "text": [
      "Перебор параметров:  60%|██████    | 3/5 [09:18<06:12, 186.32s/it]"
     ]
    },
    {
     "name": "stdout",
     "output_type": "stream",
     "text": [
      "Params: {'colsample_bytree': 0.7428600453765822, 'learning_rate': 0.07508884729488528, 'max_depth': 8, 'n_estimators': 101, 'subsample': 0.9165996316800473} → Score: 0.9975\n"
     ]
    },
    {
     "name": "stderr",
     "output_type": "stream",
     "text": [
      "Перебор параметров:  80%|████████  | 4/5 [12:24<03:06, 186.04s/it]"
     ]
    },
    {
     "name": "stdout",
     "output_type": "stream",
     "text": [
      "Params: {'colsample_bytree': 0.981565812704725, 'learning_rate': 0.010077876584101433, 'max_depth': 7, 'n_estimators': 120, 'subsample': 0.8852444528883149} → Score: 0.9947\n"
     ]
    },
    {
     "name": "stderr",
     "output_type": "stream",
     "text": [
      "Перебор параметров: 100%|██████████| 5/5 [15:26<00:00, 185.34s/it]"
     ]
    },
    {
     "name": "stdout",
     "output_type": "stream",
     "text": [
      "Params: {'colsample_bytree': 0.8834959481464842, 'learning_rate': 0.01070663052197174, 'max_depth': 4, 'n_estimators': 148, 'subsample': 0.8574323980775167} → Score: 0.9965\n",
      "Лучшие параметры: {'colsample_bytree': 0.8123620356542087, 'learning_rate': 0.10507143064099161, 'max_depth': 6, 'n_estimators': 171, 'subsample': 0.8795975452591109}\n",
      "Лучший NDCG@10 на валидации: 0.9980091936581035\n"
     ]
    },
    {
     "name": "stderr",
     "output_type": "stream",
     "text": [
      "\n"
     ]
    },
    {
     "name": "stdout",
     "output_type": "stream",
     "text": [
      "Метрики качества:\n",
      "Mean Precision@10: 0.9908\n",
      "Mean Recall@10: 0.1244\n",
      "Mean F-score@10: 0.1814\n",
      "Mean MAP@10: 0.1244\n",
      "Mean NDCG@10: 0.9861\n",
      "Mean Hit Rate@10: 1.0000\n"
     ]
    }
   ],
   "source": [
    "# Запуск пайплайна и сохранение результатов в перемененную\n",
    "pipeline_results = main_pipeline(combined_data)\n",
    "advanced_metrics = pipeline_results['metrics']\n",
    "\n",
    "# Сохраняем важные переменные из пайплайна\n",
    "user_features_full = pipeline_results['user_features']\n",
    "item_features_full = pipeline_results['item_features']\n",
    "encoders = pipeline_results['encoders']"
   ]
  },
  {
   "cell_type": "markdown",
   "id": "af3df079",
   "metadata": {
    "papermill": {
     "duration": 0.011418,
     "end_time": "2025-06-06T17:07:50.850933",
     "exception": false,
     "start_time": "2025-06-06T17:07:50.839515",
     "status": "completed"
    },
    "tags": []
   },
   "source": [
    "### Финальный этап: Анализ результатов ###"
   ]
  },
  {
   "cell_type": "code",
   "execution_count": 32,
   "id": "e47fcd79",
   "metadata": {
    "execution": {
     "iopub.execute_input": "2025-06-06T17:07:50.875305Z",
     "iopub.status.busy": "2025-06-06T17:07:50.874805Z",
     "iopub.status.idle": "2025-06-06T17:07:50.879310Z",
     "shell.execute_reply": "2025-06-06T17:07:50.878603Z"
    },
    "papermill": {
     "duration": 0.018023,
     "end_time": "2025-06-06T17:07:50.880453",
     "exception": false,
     "start_time": "2025-06-06T17:07:50.862430",
     "status": "completed"
    },
    "tags": []
   },
   "outputs": [
    {
     "name": "stdout",
     "output_type": "stream",
     "text": [
      "\n",
      "Метрики усложнённой модели:\n",
      "precision: 0.9908\n",
      "recall: 0.1244\n",
      "f_score: 0.1814\n",
      "map: 0.1244\n",
      "ndcg: 0.9861\n",
      "hit_rate: 1.0000\n"
     ]
    }
   ],
   "source": [
    "# Выводим значения для проверки\n",
    "print(\"\\nМетрики усложнённой модели:\")\n",
    "for metric, value in advanced_metrics.items():\n",
    "    print(f\"{metric}: {value:.4f}\")"
   ]
  },
  {
   "cell_type": "code",
   "execution_count": 33,
   "id": "76ad6921",
   "metadata": {
    "execution": {
     "iopub.execute_input": "2025-06-06T17:07:50.903806Z",
     "iopub.status.busy": "2025-06-06T17:07:50.903353Z",
     "iopub.status.idle": "2025-06-06T17:07:50.912140Z",
     "shell.execute_reply": "2025-06-06T17:07:50.911617Z"
    },
    "papermill": {
     "duration": 0.021612,
     "end_time": "2025-06-06T17:07:50.913244",
     "exception": false,
     "start_time": "2025-06-06T17:07:50.891632",
     "status": "completed"
    },
    "tags": []
   },
   "outputs": [
    {
     "name": "stdout",
     "output_type": "stream",
     "text": [
      "\n",
      "Сравнение метрик моделей:\n"
     ]
    },
    {
     "data": {
      "text/html": [
       "<div>\n",
       "<style scoped>\n",
       "    .dataframe tbody tr th:only-of-type {\n",
       "        vertical-align: middle;\n",
       "    }\n",
       "\n",
       "    .dataframe tbody tr th {\n",
       "        vertical-align: top;\n",
       "    }\n",
       "\n",
       "    .dataframe thead th {\n",
       "        text-align: right;\n",
       "    }\n",
       "</style>\n",
       "<table border=\"1\" class=\"dataframe\">\n",
       "  <thead>\n",
       "    <tr style=\"text-align: right;\">\n",
       "      <th></th>\n",
       "      <th>Baseline</th>\n",
       "      <th>Advanced</th>\n",
       "    </tr>\n",
       "  </thead>\n",
       "  <tbody>\n",
       "    <tr>\n",
       "      <th>precision</th>\n",
       "      <td>0.014703</td>\n",
       "      <td>0.990800</td>\n",
       "    </tr>\n",
       "    <tr>\n",
       "      <th>recall</th>\n",
       "      <td>0.001123</td>\n",
       "      <td>0.124386</td>\n",
       "    </tr>\n",
       "    <tr>\n",
       "      <th>f_score</th>\n",
       "      <td>0.001949</td>\n",
       "      <td>0.181388</td>\n",
       "    </tr>\n",
       "    <tr>\n",
       "      <th>map</th>\n",
       "      <td>0.000347</td>\n",
       "      <td>0.124386</td>\n",
       "    </tr>\n",
       "    <tr>\n",
       "      <th>ndcg</th>\n",
       "      <td>0.061400</td>\n",
       "      <td>0.986085</td>\n",
       "    </tr>\n",
       "    <tr>\n",
       "      <th>hit_rate</th>\n",
       "      <td>0.130267</td>\n",
       "      <td>1.000000</td>\n",
       "    </tr>\n",
       "  </tbody>\n",
       "</table>\n",
       "</div>"
      ],
      "text/plain": [
       "           Baseline  Advanced\n",
       "precision  0.014703  0.990800\n",
       "recall     0.001123  0.124386\n",
       "f_score    0.001949  0.181388\n",
       "map        0.000347  0.124386\n",
       "ndcg       0.061400  0.986085\n",
       "hit_rate   0.130267  1.000000"
      ]
     },
     "execution_count": 33,
     "metadata": {},
     "output_type": "execute_result"
    }
   ],
   "source": [
    "# Создаём табличку для сравнения\n",
    "comparison_df = pd.DataFrame({\n",
    "    'Baseline': baseline_metrics,\n",
    "    'Advanced': advanced_metrics\n",
    "})\n",
    "\n",
    "# Выводим таблицу\n",
    "print(\"\\nСравнение метрик моделей:\")\n",
    "comparison_df"
   ]
  },
  {
   "cell_type": "markdown",
   "id": "fe329c6b",
   "metadata": {
    "papermill": {
     "duration": 0.010945,
     "end_time": "2025-06-06T17:07:50.935461",
     "exception": false,
     "start_time": "2025-06-06T17:07:50.924516",
     "status": "completed"
    },
    "tags": []
   },
   "source": [
    "### Выгрузка рекомендаций для каждого пользователя"
   ]
  },
  {
   "cell_type": "code",
   "execution_count": 34,
   "id": "4f34def2",
   "metadata": {
    "execution": {
     "iopub.execute_input": "2025-06-06T17:07:50.958564Z",
     "iopub.status.busy": "2025-06-06T17:07:50.958306Z",
     "iopub.status.idle": "2025-06-06T17:07:50.964096Z",
     "shell.execute_reply": "2025-06-06T17:07:50.963607Z"
    },
    "papermill": {
     "duration": 0.018459,
     "end_time": "2025-06-06T17:07:50.965031",
     "exception": false,
     "start_time": "2025-06-06T17:07:50.946572",
     "status": "completed"
    },
    "tags": []
   },
   "outputs": [],
   "source": [
    "def recommend_for_user(user_id, model, df, user_features, item_features, encoders, top_n=10):\n",
    "\n",
    "    # Получаем закодированный ID пользователя\n",
    "    user_encoder = encoders[\"user\"]\n",
    "    item_encoder = encoders[\"item\"]\n",
    "\n",
    "    if user_id not in user_encoder.classes_:\n",
    "        print(f\"Пользователь {user_id} не найден в обучающих данных.\")\n",
    "        return []\n",
    "\n",
    "    encoded_user_id = user_encoder.transform([user_id])[0]\n",
    "\n",
    "    # Получаем список всех возможных товарных ID\n",
    "    all_items = item_features.index.values  # item_id (закодированные)\n",
    "\n",
    "    # Повторяем данные пользователя под каждый товар\n",
    "    user_feat = user_features.loc[encoded_user_id].values\n",
    "    user_feat_repeated = np.tile(user_feat, (len(all_items), 1))\n",
    "\n",
    "    # Берём фичи товаров\n",
    "    item_feat = item_features.loc[all_items].values\n",
    "\n",
    "    # Простые дополнительные фичи\n",
    "    dummy_count = np.zeros((len(all_items), 1))\n",
    "    dummy_popularity = df['item_popularity'].mean()\n",
    "    item_popularity = np.full((len(all_items), 1), dummy_popularity)\n",
    "\n",
    "    extra_features = np.hstack([\n",
    "        dummy_count,\n",
    "        item_popularity,\n",
    "        dummy_count,  # category_user_freq\n",
    "        dummy_count,  # brand_user_freq\n",
    "        np.arange(1, len(all_items) + 1).reshape(-1, 1)  # item_user_rank\n",
    "    ])\n",
    "\n",
    "    # Комбинируем все фичи\n",
    "    combined_features = np.hstack([user_feat_repeated, item_feat, extra_features])\n",
    "\n",
    "    # Предсказываем релевантность\n",
    "    predictions = model.predict(combined_features)\n",
    "\n",
    "    # Получаем индексы топ-N товаров\n",
    "    top_item_indices = np.argsort(predictions)[::-1][:top_n]\n",
    "    recommended_encoded_ids = all_items[top_item_indices]\n",
    "\n",
    "    # Преобразуем в оригинальные ID\n",
    "    recommended_product_ids = item_encoder.inverse_transform(recommended_encoded_ids)\n",
    "\n",
    "    return recommended_product_ids"
   ]
  },
  {
   "cell_type": "code",
   "execution_count": 35,
   "id": "4fbc0c65",
   "metadata": {
    "execution": {
     "iopub.execute_input": "2025-06-06T17:07:50.989310Z",
     "iopub.status.busy": "2025-06-06T17:07:50.989102Z",
     "iopub.status.idle": "2025-06-06T17:07:50.994555Z",
     "shell.execute_reply": "2025-06-06T17:07:50.994042Z"
    },
    "papermill": {
     "duration": 0.018752,
     "end_time": "2025-06-06T17:07:50.995614",
     "exception": false,
     "start_time": "2025-06-06T17:07:50.976862",
     "status": "completed"
    },
    "tags": []
   },
   "outputs": [],
   "source": [
    "def generate_recommendation_table(\n",
    "    model, \n",
    "    combined_data, \n",
    "    user_features_full, \n",
    "    item_features_full, \n",
    "    encoders, \n",
    "    top_n=10\n",
    "):\n",
    "    unique_users = combined_data['household_key'].unique()\n",
    "\n",
    "    results = []\n",
    "\n",
    "    for user_id in tqdm(unique_users, desc=\"Формирование рекомендаций\"):\n",
    "        recommendations = recommend_for_user(\n",
    "            user_id=user_id,\n",
    "            model=model,\n",
    "            df=combined_data,\n",
    "            user_features=user_features_full,\n",
    "            item_features=item_features_full,\n",
    "            encoders=encoders,\n",
    "            top_n=top_n\n",
    "        )\n",
    "\n",
    "        # Получаем демографические данные пользователя\n",
    "        user_row = combined_data[combined_data['household_key'] == user_id].iloc[0]\n",
    "\n",
    "        result_row = {\n",
    "            'household_key': user_id\n",
    "        }\n",
    "\n",
    "        # Добавляем характеристики пользователя\n",
    "        demo_cols = ['AGE_DESC', 'INCOME_DESC', 'MARITAL_STATUS_CODE', 'HOMEOWNER_DESC',\n",
    "                     'HH_COMP_DESC', 'HOUSEHOLD_SIZE_DESC', 'KID_CATEGORY_DESC']\n",
    "        for col in demo_cols:\n",
    "            result_row[col] = user_row[col]\n",
    "\n",
    "        # Добавляем рекомендации\n",
    "        for i, product_id in enumerate(recommendations):\n",
    "            result_row[f'rec_{i+1}'] = product_id\n",
    "\n",
    "        results.append(result_row)\n",
    "\n",
    "    # Создаём финальный DataFrame\n",
    "    recommendations_df = pd.DataFrame(results)\n",
    "    return recommendations_df"
   ]
  },
  {
   "cell_type": "code",
   "execution_count": 36,
   "id": "a1ae9ddc",
   "metadata": {
    "execution": {
     "iopub.execute_input": "2025-06-06T17:07:51.019532Z",
     "iopub.status.busy": "2025-06-06T17:07:51.019112Z",
     "iopub.status.idle": "2025-06-06T17:11:06.028676Z",
     "shell.execute_reply": "2025-06-06T17:11:06.027759Z"
    },
    "papermill": {
     "duration": 195.023037,
     "end_time": "2025-06-06T17:11:06.029900",
     "exception": false,
     "start_time": "2025-06-06T17:07:51.006863",
     "status": "completed"
    },
    "tags": []
   },
   "outputs": [
    {
     "name": "stderr",
     "output_type": "stream",
     "text": [
      "Формирование рекомендаций: 100%|██████████| 2500/2500 [03:14<00:00, 12.83it/s]\n"
     ]
    },
    {
     "name": "stdout",
     "output_type": "stream",
     "text": [
      "Рекомендации успешно сформированы и выгружены:\n",
      "   household_key AGE_DESC INCOME_DESC MARITAL_STATUS_CODE HOMEOWNER_DESC  \\\n",
      "0              1      65+      35-49K                   A      Homeowner   \n",
      "1              2  Unknown     Unknown             Unknown        Unknown   \n",
      "2              3  Unknown     Unknown             Unknown        Unknown   \n",
      "3              4  Unknown     Unknown             Unknown        Unknown   \n",
      "4              5  Unknown     Unknown             Unknown        Unknown   \n",
      "\n",
      "       HH_COMP_DESC HOUSEHOLD_SIZE_DESC KID_CATEGORY_DESC   rec_1   rec_2  \\\n",
      "0  2 Adults No Kids                   2      None/Unknown  821867  823721   \n",
      "1           Unknown             Unknown           Unknown  821867  823721   \n",
      "2           Unknown             Unknown           Unknown  821867  823721   \n",
      "3           Unknown             Unknown           Unknown  821867  823721   \n",
      "4           Unknown             Unknown           Unknown  821867  823721   \n",
      "\n",
      "    rec_3   rec_4   rec_5   rec_6   rec_7   rec_8   rec_9  rec_10  \n",
      "0  823990  825123  826695  827656  820165  821815  819312  830127  \n",
      "1  819312  820165  821815  827656  826695  825123  823990  830127  \n",
      "2  819312  820165  821815  827656  826695  825123  823990  830127  \n",
      "3  819312  820165  821815  827656  826695  825123  823990  830127  \n",
      "4  819312  820165  821815  827656  826695  825123  823990  830127  \n"
     ]
    }
   ],
   "source": [
    "# Загружаем модель из файла\n",
    "with open(\"xgb_ranker_model.pkl\", \"rb\") as f:\n",
    "    loaded_model = pickle.load(f)\n",
    "\n",
    "# Генерируем таблицу рекомендаций для всех пользователей\n",
    "recommendations_df = generate_recommendation_table(\n",
    "    model=pipeline_results['model'],\n",
    "    combined_data=pipeline_results['enriched_df'],\n",
    "    user_features_full=user_features_full,\n",
    "    item_features_full=item_features_full,\n",
    "    encoders=encoders,\n",
    "    top_n=10\n",
    ")\n",
    "\n",
    "# Сохраняем в CSV\n",
    "recommendations_df.to_csv(\"recommendations_results.csv\", index=False)\n",
    "\n",
    "# Выводим на экран первые строки\n",
    "print(\"Рекомендации успешно сформированы и выгружены:\")\n",
    "print(recommendations_df.head())"
   ]
  }
 ],
 "metadata": {
  "kaggle": {
   "accelerator": "gpu",
   "dataSources": [
    {
     "datasetId": 408408,
     "sourceId": 782411,
     "sourceType": "datasetVersion"
    }
   ],
   "dockerImageVersionId": 31040,
   "isGpuEnabled": true,
   "isInternetEnabled": true,
   "language": "python",
   "sourceType": "notebook"
  },
  "kernelspec": {
   "display_name": "Python 3",
   "language": "python",
   "name": "python3"
  },
  "language_info": {
   "codemirror_mode": {
    "name": "ipython",
    "version": 3
   },
   "file_extension": ".py",
   "mimetype": "text/x-python",
   "name": "python",
   "nbconvert_exporter": "python",
   "pygments_lexer": "ipython3",
   "version": "3.11.11"
  },
  "papermill": {
   "default_parameters": {},
   "duration": 1447.907109,
   "end_time": "2025-06-06T17:11:08.808708",
   "environment_variables": {},
   "exception": null,
   "input_path": "__notebook__.ipynb",
   "output_path": "__notebook__.ipynb",
   "parameters": {},
   "start_time": "2025-06-06T16:47:00.901599",
   "version": "2.6.0"
  }
 },
 "nbformat": 4,
 "nbformat_minor": 5
}
